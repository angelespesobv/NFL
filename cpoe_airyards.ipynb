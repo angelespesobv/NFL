{
 "cells": [
  {
   "cell_type": "code",
   "execution_count": 1,
   "metadata": {},
   "outputs": [],
   "source": [
    "import pandas as pd\n",
    "import numpy as np\n",
    "import matplotlib.pyplot as plt\n",
    "from adjustText import adjust_text\n",
    "import matplotlib.image as mpimg"
   ]
  },
  {
   "cell_type": "code",
   "execution_count": 4,
   "metadata": {},
   "outputs": [],
   "source": [
    "data = pd.read_csv('play_by_play2019.csv.gz', compression = 'gzip', low_memory = False)"
   ]
  },
  {
   "cell_type": "code",
   "execution_count": 5,
   "metadata": {},
   "outputs": [],
   "source": [
    "regular = data.loc[data.season_type == 'REG']"
   ]
  },
  {
   "cell_type": "code",
   "execution_count": 6,
   "metadata": {},
   "outputs": [],
   "source": [
    "eagles_regular = data.loc[(data.season_type == 'REG') & (data.posteam == 'PHI') &  (data.passer == 'C.Wentz')]"
   ]
  },
  {
   "cell_type": "code",
   "execution_count": 7,
   "metadata": {},
   "outputs": [],
   "source": [
    "wentz = eagles_regular.groupby('air_yards', as_index = False).agg({'epa':'mean',\n",
    "                                         'cpoe':'mean',\n",
    "                                          'play_id':'count'}).sort_values('air_yards',ascending = True)\n",
    "\n",
    "all_qbs = regular.groupby(['passer','air_yards'], as_index = False).agg({'epa':'mean',\n",
    "                                         'cpoe':'mean',\n",
    "                                          'play_id':'count'}).sort_values('air_yards',ascending = True)\n"
   ]
  },
  {
   "cell_type": "code",
   "execution_count": 8,
   "metadata": {},
   "outputs": [],
   "source": [
    "wentz = wentz.dropna()\n",
    "all_qbs = all_qbs.dropna()"
   ]
  },
  {
   "cell_type": "code",
   "execution_count": 9,
   "metadata": {},
   "outputs": [],
   "source": [
    "f = np.polynomial.polynomial.polyfit(wentz.air_yards, wentz.cpoe, 3)\n",
    "q = np.polynomial.polynomial.polyfit(all_qbs.air_yards, all_qbs.cpoe, 3)"
   ]
  },
  {
   "cell_type": "code",
   "execution_count": 11,
   "metadata": {},
   "outputs": [
    {
     "data": {
      "text/plain": [
       "<matplotlib.legend.Legend at 0x1544ec88>"
      ]
     },
     "execution_count": 11,
     "metadata": {},
     "output_type": "execute_result"
    }
   ],
   "source": [
    "fig, ax = plt.subplots(figsize=(15,15))\n",
    "\n",
    "#Create a dot for each air_yards measure\n",
    "#s stands for size, the dot size is proportional to the QBs number of plays\n",
    "for i in range(len(wentz)):\n",
    "    ax.scatter(wentz.air_yards.iloc[i], wentz.cpoe.iloc[i],\n",
    "               s= (wentz.play_id.iloc[i])*10 , alpha=.4,\n",
    "              color = '#396044')\n",
    "    \n",
    "    \n",
    "yf = [np.polynomial.polynomial.polyval(cx, f) for cx in wentz.air_yards]\n",
    "ax.plot(wentz.air_yards, yf, linestyle = \"-\", color = '#396044', linewidth = 3, label = 'C.Wentz');\n",
    "\n",
    "yq = [np.polynomial.polynomial.polyval(cx, q) for cx in all_qbs.air_yards]\n",
    "ax.plot(all_qbs.air_yards, yq, linestyle = \"--\", color = 'black',alpha= .7, linewidth = 2.5, label = 'League Avg');\n",
    "\n",
    "ax.set_ylim(bottom = -30, top= 30)\n",
    "ax.set_xlim(left = -10)\n",
    "#Add grid\n",
    "ax.grid(zorder=0,alpha=.35)\n",
    "ax.set_axisbelow(True)\n",
    "\n",
    "#Remove top and right boundary lines\n",
    "#ax.spines['right'].set_visible(False)\n",
    "#ax.spines['top'].set_visible(False)\n",
    "\n",
    "#Add title, labels, and source\n",
    "ax.set_title(\"Carson Wentz's CPOE by air yards\",fontsize=20,pad=15)\n",
    "ax.set_xlabel('Air Yards',fontsize=16,labelpad=15)\n",
    "ax.set_ylabel('Completion % Over Expected',fontsize=16,labelpad=15)\n",
    "plt.figtext(.8,.06, '@pyladelphia', fontsize = 12)\n",
    "plt.figtext(.8,.08,'Data: nflfastR',fontsize=12)\n",
    "        \n",
    "plt.legend(loc=\"upper right\", prop = {'size': 15})\n",
    "\n",
    "#plt.savefig('wentz_cpoe_airyards.png',dpi=400)\n",
    "plt.show()"
   ]
  },
  {
   "cell_type": "code",
   "execution_count": null,
   "metadata": {},
   "outputs": [],
   "source": []
  }
 ],
 "metadata": {
  "kernelspec": {
   "display_name": "Python 3",
   "language": "python",
   "name": "python3"
  },
  "language_info": {
   "codemirror_mode": {
    "name": "ipython",
    "version": 3
   },
   "file_extension": ".py",
   "mimetype": "text/x-python",
   "name": "python",
   "nbconvert_exporter": "python",
   "pygments_lexer": "ipython3",
   "version": "3.8.3"
  }
 },
 "nbformat": 4,
 "nbformat_minor": 4
}
